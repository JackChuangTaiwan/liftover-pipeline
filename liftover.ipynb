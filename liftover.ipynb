{
 "cells": [
  {
   "cell_type": "markdown",
   "metadata": {},
   "source": [
    "# Liftover tools pipeline(hg38>hg19)"
   ]
  },
  {
   "cell_type": "markdown",
   "metadata": {},
   "source": [
    "Stept 0: 會下載Picard tools, hg19, hg38ToHg19的liftover file，並且做前處理\n",
    "\n",
    "Stept 1: 選擇VCF資料夾，流程會掃過資料夾中所有VCF，另外選擇liftover file及參考序列\n",
    "\n",
    "Stept 2: 執行Picard tools LiftoverVcf功能"
   ]
  },
  {
   "cell_type": "markdown",
   "metadata": {},
   "source": [
    "## Stept 0: 如果你不是第一次跑這個流程，可以跳過這個流程到Step 1"
   ]
  },
  {
   "cell_type": "code",
   "execution_count": null,
   "metadata": {},
   "outputs": [
    {
     "name": "stdout",
     "output_type": "stream",
     "text": [
      " 13% [.........                                                             ] 129515520 / 948731419"
     ]
    }
   ],
   "source": [
    "try:\n",
    "    import wget\n",
    "except:\n",
    "    !pip install wget\n",
    "\n",
    "try:\n",
    "    import ipyfilechooser\n",
    "except:\n",
    "    !pip install ipyfilechooser\n",
    "\n",
    "import os \n",
    "import gzip\n",
    "dir_path = os.getcwd()\n",
    "\n",
    "#Download reference seq\n",
    "filename = dir_path + '/' + os.path.basename('https://hgdownload.soe.ucsc.edu/goldenPath/hg19/bigZips/hg19.fa.gz')\n",
    "if os.path.exists(filename):\n",
    "    print('hg19.fa.gz 已下載')\n",
    "else :\n",
    "    wget.download('https://hgdownload.soe.ucsc.edu/goldenPath/hg19/bigZips/hg19.fa.gz') \n",
    "    g = gzip.GzipFile(mode=\"rb\", fileobj=open('hg19.fa.gz' , 'rb')) # python gzip 解壓\n",
    "    open(r\"hg19.fa\", \"wb\").write(g.read())\n",
    "    \n",
    "#Download liftover file\n",
    "filename = dir_path + '/' + os.path.basename('https://hgdownload.soe.ucsc.edu/goldenPath/hg38/liftOver/hg38ToHg19.over.chain.gz')\n",
    "if os.path.exists(filename):\n",
    "    print('hg38ToHg19.over.chain.gz 已下載')\n",
    "else :\n",
    "    wget.download('https://hgdownload.soe.ucsc.edu/goldenPath/hg38/liftOver/hg38ToHg19.over.chain.gz') \n",
    "    g = gzip.GzipFile(mode=\"rb\", fileobj=open('hg38ToHg19.over.chain.gz' , 'rb')) # python gzip 解壓\n",
    "    open(r\"hg38ToHg19.over.chain\", \"wb\").write(g.read())\n",
    "\n",
    "#Download picard tools\n",
    "filename = dir_path + '/' + os.path.basename('https://github.com/broadinstitute/picard/releases/download/2.23.8/picard.jar')\n",
    "if os.path.exists(filename):\n",
    "    print('picard.jar 已下載')\n",
    "else :\n",
    "    wget.download('https://github.com/broadinstitute/picard/releases/download/2.23.8/picard.jar') \n"
   ]
  },
  {
   "cell_type": "markdown",
   "metadata": {},
   "source": [
    "### 確認Java是否安裝，如未安裝 請安裝JDK https://www.oracle.com/tw/java/technologies/javase-downloads.html"
   ]
  },
  {
   "cell_type": "code",
   "execution_count": null,
   "metadata": {},
   "outputs": [],
   "source": [
    "!java -version"
   ]
  },
  {
   "cell_type": "markdown",
   "metadata": {},
   "source": [
    "### 產生fasta.dict檔"
   ]
  },
  {
   "cell_type": "code",
   "execution_count": null,
   "metadata": {},
   "outputs": [],
   "source": [
    "if os.path.exists(\"hg19.dict\"):\n",
    "    print('CreateSequenceDictionary已完成, 請至下個步驟')\n",
    "else:\n",
    "    !java -jar .\\picard.jar CreateSequenceDictionary -R \"hg19.fa\" "
   ]
  },
  {
   "cell_type": "markdown",
   "metadata": {},
   "source": [
    "## Stept 1: 選擇檔案"
   ]
  },
  {
   "cell_type": "code",
   "execution_count": null,
   "metadata": {
    "scrolled": false
   },
   "outputs": [],
   "source": [
    "from ipyfilechooser import FileChooser\n",
    "# Create and display a FileChooser widget\n",
    "print(\"選擇要掃描的VCF資料夾\")\n",
    "vcf = FileChooser(dir_path)\n",
    "vcf.show_only_dirs = True\n",
    "display(vcf)\n",
    "\n",
    "print(\"Select Chain file[.chain file]\")\n",
    "chain = FileChooser(dir_path)\n",
    "chain.show_only_dirs = False\n",
    "display(chain)\n",
    "\n",
    "print(\"Select reference file[.fa file]\")\n",
    "fasta = FileChooser(dir_path)\n",
    "fasta.show_only_dirs = False\n",
    "display(fasta)\n"
   ]
  },
  {
   "cell_type": "markdown",
   "metadata": {},
   "source": [
    "## Stept 2: 執行 picard liftoverVcf  "
   ]
  },
  {
   "cell_type": "code",
   "execution_count": null,
   "metadata": {},
   "outputs": [],
   "source": [
    "#output file path as _liftover.vcf\n",
    "if os.path.exists(vcf.selected_path+\"\\\\\"+\"liftover\"):\n",
    "    print(\"liftover資料夾已建立\")\n",
    "else:\n",
    "    !mkdir liftover"
   ]
  },
  {
   "cell_type": "markdown",
   "metadata": {},
   "source": [
    "### LiftoverVcf"
   ]
  },
  {
   "cell_type": "code",
   "execution_count": null,
   "metadata": {},
   "outputs": [],
   "source": [
    "print(vcf.selected)\n",
    "print(chain.selected)\n",
    "print(fasta.selected)\n",
    "files = os.listdir(vcf.selected)\n",
    "for i in files:\n",
    "    if 'vcf' in i:\n",
    "        liftover_vcf=vcf.selected_path+\"\\\\\"+\"liftover\"+\"\\\\\"+i.replace(\".vcf\", \"_liftover.vcf\")\n",
    "        reject_vcf=vcf.selected_path+\"\\\\\"+\"liftover\"+\"\\\\\"+i.replace(\".vcf\", \"_rejected_variants.vcf\")\n",
    "        input=vcf.selected_path+'\\\\'+i\n",
    "        !java -Xmx8G -jar .\\picard.jar LiftoverVcf -I $input -O $liftover_vcf  --CHAIN $chain.selected --REJECT $reject_vcf -R $fasta.selected"
   ]
  },
  {
   "cell_type": "markdown",
   "metadata": {},
   "source": [
    "### 確認 liftovervcf 是否完成"
   ]
  },
  {
   "cell_type": "code",
   "execution_count": null,
   "metadata": {},
   "outputs": [],
   "source": [
    "files = os.listdir(vcf.selected+\"liftover\")\n",
    "for i in files:\n",
    "    print(i)"
   ]
  }
 ],
 "metadata": {
  "kernelspec": {
   "display_name": "Python 3",
   "language": "python",
   "name": "python3"
  },
  "language_info": {
   "codemirror_mode": {
    "name": "ipython",
    "version": 3
   },
   "file_extension": ".py",
   "mimetype": "text/x-python",
   "name": "python",
   "nbconvert_exporter": "python",
   "pygments_lexer": "ipython3",
   "version": "3.8.3"
  }
 },
 "nbformat": 4,
 "nbformat_minor": 4
}
